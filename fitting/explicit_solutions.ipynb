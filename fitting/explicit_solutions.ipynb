{
 "cells": [
  {
   "cell_type": "markdown",
   "metadata": {},
   "source": [
    "## Explicit Solutions"
   ]
  },
  {
   "cell_type": "markdown",
   "metadata": {},
   "source": [
    "This notebook will show how to fit explicit solutions to summary measures.\n",
    "\n",
    "It will first fit the Rescorla-Wagner model to the trial-by-trial response rates. It will then fit Modular Theory to the same trial-by-trial response rates. While the Rescorla-Wagner model is restricted to fitting response rate data (or some transform of it), Modular Theory can fit both response rate and response timing data. So the last section fits Modular Theory to the averaged response gradient."
   ]
  },
  {
   "cell_type": "markdown",
   "metadata": {},
   "source": [
    "## 1.0 Setting up the code environment"
   ]
  },
  {
   "cell_type": "markdown",
   "metadata": {},
   "source": [
    "### 1.1 Importing packages"
   ]
  },
  {
   "cell_type": "code",
   "execution_count": 1,
   "metadata": {
    "collapsed": false
   },
   "outputs": [],
   "source": [
    "# System packages\n",
    "import sys\n",
    "\n",
    "# Storing and manipulating data...\n",
    "import pandas as pd\n",
    "import numpy as np\n",
    "from scipy.optimize import curve_fit, minimize\n",
    "from scipy.stats import norm, pearsonr\n",
    "\n",
    "# Plotting...\n",
    "import matplotlib.pyplot as plt\n",
    "import seaborn as sns\n",
    "%matplotlib inline\n",
    "\n",
    "plt.rc('text', usetex=True)\n",
    "\n",
    "# The following packages are unique to this script\n",
    "from create_data_file import create_modular_theory_file"
   ]
  },
  {
   "cell_type": "markdown",
   "metadata": {},
   "source": [
    "### 1.2 Processing the data"
   ]
  },
  {
   "cell_type": "markdown",
   "metadata": {},
   "source": [
    "The data is stored as text files. They first need to be loaded and processed. The following command does this, and returns a single (processed) csv file that is saved to your computer. It only creates the file if one doesn't already exist."
   ]
  },
  {
   "cell_type": "code",
   "execution_count": 2,
   "metadata": {
    "collapsed": false,
    "scrolled": true
   },
   "outputs": [
    {
     "name": "stdout",
     "output_type": "stream",
     "text": [
      "Creating file...done (already present)\n"
     ]
    }
   ],
   "source": [
    "create_modular_theory_file(how=\"acquisition\") # only process the acquisition data"
   ]
  },
  {
   "cell_type": "markdown",
   "metadata": {},
   "source": [
    "### 1.3 Loading the data into a pandas DataFrame"
   ]
  },
  {
   "cell_type": "code",
   "execution_count": 3,
   "metadata": {
    "collapsed": true
   },
   "outputs": [],
   "source": [
    "full_data = pd.read_csv(\"../data/modular_theory2007/Data_Modular_Theory2007.csv\", engine=\"c\")"
   ]
  },
  {
   "cell_type": "markdown",
   "metadata": {},
   "source": [
    "For this analysis, we only need a portion of the data. We'll take the FI-120 acquisition data."
   ]
  },
  {
   "cell_type": "code",
   "execution_count": 4,
   "metadata": {
    "collapsed": false
   },
   "outputs": [],
   "source": [
    "interval = 120\n",
    "trialname = \"FI{}\".format(interval)\n",
    "row_idx = (full_data[\"trial_\"+trialname] > 0) & (full_data.phase == \"acquisition\")\n",
    "col_idx = [\"subject\", \"session\", \"trial_\"+trialname, \"time_\"+trialname, \"event\"]\n",
    "\n",
    "data = full_data.ix[row_idx, col_idx]\n",
    "\n",
    "data = data.rename(columns={\"trial_\"+trialname:\"trial\",\n",
    "                            \"time_\"+trialname:\"time\"})"
   ]
  },
  {
   "cell_type": "markdown",
   "metadata": {},
   "source": [
    "## 2.0 Analysis of the learning curve"
   ]
  },
  {
   "cell_type": "markdown",
   "metadata": {},
   "source": [
    "The learning curve is most often represented as the response rate per trial or session, often averaged over rats. When represented over sessions, the learning curve is smoother, but representes the underlying data less precisely. When represented over trials, the learning curve is noiser, but represents single trial behavior. And averaging over rats prevents us from estimate learning rates for any individual rat. \n",
    "\n",
    "\n",
    "Our goal is to fit learning curves to individual trials for individual rats. So we need to get the response rates per trial for each rat."
   ]
  },
  {
   "cell_type": "markdown",
   "metadata": {
    "collapsed": true
   },
   "source": [
    "### 2.1 Obtaining the learning curve"
   ]
  },
  {
   "cell_type": "markdown",
   "metadata": {},
   "source": [
    "The learning curve will be the response rate per trial, over trials, for each individual rat."
   ]
  },
  {
   "cell_type": "code",
   "execution_count": 5,
   "metadata": {
    "collapsed": false
   },
   "outputs": [],
   "source": [
    "def response_rate(event, interval):\n",
    "    \"\"\"Return the response rate\n",
    "        computed as responses per minute\n",
    "        60 * n/t\n",
    "    \"\"\"\n",
    "    return 60 * ((event == 8).sum() / interval)\n",
    "\n",
    "# Individual response rates per trial per rat\n",
    "df_response_rate = (data.groupby([\"subject\", \"trial\"])\n",
    "                        .event\n",
    "                        .aggregate(response_rate, interval)\n",
    "                        .pipe(pd.DataFrame)\n",
    "                        .reset_index()\n",
    "                        .rename(columns={\"event\": \"rpm\"})\n",
    "                   )\n",
    "\n",
    "# Average over rats.\n",
    "df_mean_responserate = (df_response_rate.groupby(\"trial\")\n",
    "                                        .rpm\n",
    "                                        .agg([\"mean\", \"sem\"])\n",
    "                                        .reset_index()\n",
    "                        )"
   ]
  },
  {
   "cell_type": "markdown",
   "metadata": {},
   "source": [
    "### 2.2 Fitting the Rescorla-Wagner Model"
   ]
  },
  {
   "cell_type": "markdown",
   "metadata": {},
   "source": [
    "#### 2.2.1 The Model"
   ]
  },
  {
   "cell_type": "markdown",
   "metadata": {},
   "source": [
    "The Rescorla-Wagner model for a single stimulus is made up of two ideas. The first is that learning the associative value is incremental and progresses gradually at rate $\\alpha$\n",
    "\n",
    "$$V_n \\leftarrow V_n + \\alpha \\Delta V_n$$\n",
    "\n",
    "The second idea is that how much the associative value increases depends on the reward prediction error: the difference between the reinforcement obtained and the current associative value.\n",
    "\n",
    "$$\\Delta V_n = r - V_{n-1}$$\n",
    "\n",
    "The closed-form solution assuming a constant $r$ is\n",
    "\n",
    "$$V_n = r - r(1-\\alpha)^n + V_0(1-\\alpha)^n$$"
   ]
  },
  {
   "cell_type": "code",
   "execution_count": 6,
   "metadata": {
    "collapsed": true
   },
   "outputs": [],
   "source": [
    "def rescorla_wagner(xdata, α, V0, r):\n",
    "    \"\"\"Return the predictions from the RW model\"\"\"\n",
    "    ntrials = xdata.size\n",
    "    V = np.zeros(ntrials)\n",
    "    V[0] = V0\n",
    "    for trial in range(1, ntrials):\n",
    "        ΔV = r-V[trial-1]\n",
    "        V[trial] = V[trial-1] + α*ΔV\n",
    "    return V\n",
    "\n",
    "def rescorla_wagner(xdata, α, V0, r):\n",
    "    \"\"\"Analytical solution\n",
    "        r is a fitted parameter\n",
    "    \"\"\"\n",
    "    n = np.arange(xdata.size)\n",
    "    return r - r*(1-α)**n + V0*(1-α)**n"
   ]
  },
  {
   "cell_type": "markdown",
   "metadata": {},
   "source": [
    "### 2.2.2 The fitting"
   ]
  },
  {
   "cell_type": "markdown",
   "metadata": {},
   "source": [
    "To fit, we need to define the loss function. This is our \"goodness-of-fit\" measure that can be computed for any combination of parameter values. This is our measure of how well any particular combination of parameters fits our data.\n",
    "\n",
    "The most standard loss function is the squared error\n",
    "\n",
    "$$SSR(\\alpha, A) = \\sum_i (y_i - \\hat{y_i})^2$$\n",
    "\n",
    "where $\\hat{y_i}$ is simply our prediction of $y_i$. That is, its the output of the rescorla_wagner function, above. The sum of the squared residuals (SSR) depends on the parameter values $\\alpha$ and $A$ because the prediction depends on them."
   ]
  },
  {
   "cell_type": "code",
   "execution_count": 7,
   "metadata": {
    "collapsed": true
   },
   "outputs": [],
   "source": [
    "def ssr(ydata, yfit):\n",
    "    \"\"\"Return the sum of squared residuals\"\"\"\n",
    "    return ((ydata-yfit)**2).sum()"
   ]
  },
  {
   "cell_type": "markdown",
   "metadata": {},
   "source": [
    "We often want to put bounds on the parameters. For example, $A$ must be positive because there's no such thing as a negative response rate. And $\\alpha$ must be between $0$ and $1$ because it represents the proportion learned on each trial.\n",
    "\n",
    "Without specifying constraints on the parameters, fitting the data becomes much harder.\n",
    "\n",
    "In the $\\textit{constraints}$ function below, we use the standard notation that the parameters of a model are a parameter vector, $\\theta = \\{\\alpha, A\\}$. This allows us to write a single function to handle constraints from any model"
   ]
  },
  {
   "cell_type": "code",
   "execution_count": 8,
   "metadata": {
    "collapsed": false
   },
   "outputs": [],
   "source": [
    "def constraints(θ, θ_bounds):\n",
    "    \"\"\"Check bounds on parameters\"\"\"\n",
    "    if not ((θ_bounds[0] <= θ) & (θ <= θ_bounds[1])).all():\n",
    "        return False\n",
    "    return True"
   ]
  },
  {
   "cell_type": "markdown",
   "metadata": {},
   "source": [
    "In our case, the bounds for the Rescorla-Wagner model are"
   ]
  },
  {
   "cell_type": "code",
   "execution_count": 9,
   "metadata": {
    "collapsed": true
   },
   "outputs": [],
   "source": [
    "# I've never seen a rat with higher than 150 responses per minute. Make the upper bound 300.\n",
    "# 0 <= α <= 1, 0 <= A <= 300\n",
    "θ_bounds = [(0, 0, 0), (1, 300, 300)]\n",
    "\n",
    "# convert to a list of numpy arrays because its easier to work with\n",
    "θ_bounds = list(map(np.array, θ_bounds))"
   ]
  },
  {
   "cell_type": "markdown",
   "metadata": {},
   "source": [
    "If the bounds are not satisfied, we want to return the highest SSR possible. This is defined as the maximum number the computer can store."
   ]
  },
  {
   "cell_type": "code",
   "execution_count": 10,
   "metadata": {
    "collapsed": true
   },
   "outputs": [],
   "source": [
    "MAX_INT = sys.maxsize"
   ]
  },
  {
   "cell_type": "markdown",
   "metadata": {},
   "source": [
    "Next we want to evaluate how well any combination of parameters fits the data. For this we need to use the parts we just built up: (i) Check the bounds, (ii) Run the RW model with those parameters, (iii) compare the output to the data. "
   ]
  },
  {
   "cell_type": "code",
   "execution_count": 11,
   "metadata": {
    "collapsed": true
   },
   "outputs": [],
   "source": [
    "def goodness_of_fit(θ, f, θ_bounds, ydata):\n",
    "    \"\"\"Return goodness-of-fit for the RW model evaluated at θ\"\"\"\n",
    "    if not constraints(θ, θ_bounds):\n",
    "        return MAX_INT\n",
    "    yfit = f(ydata, *θ)\n",
    "    return ssr(ydata, yfit)"
   ]
  },
  {
   "cell_type": "markdown",
   "metadata": {},
   "source": [
    "Now we're ready to fit. We want to use the \"Nelder-Mead\" fit algorithm because, while it is slower than some others, it is robust to complicated data.\n",
    "\n",
    "An important but often overlooked aspect to fitting is the idea of \"getting stuck in a local minima.\" That is, the parameters returned as the \"best\" are the best fit of all the nearby points, but not the best fit overall.\n",
    "\n",
    "The way to account for this is to run the fitting algorithm sevaral times, each starting with a new initial point. The best fit of all the runs of the algorithm is a better estimate of the global minimum --the true best estimates of the parameters. The more initial points are chosen, the more likely you are to have found the best fit."
   ]
  },
  {
   "cell_type": "code",
   "execution_count": 12,
   "metadata": {
    "collapsed": true
   },
   "outputs": [],
   "source": [
    "def random_initial_point(θ_bounds):\n",
    "    \"\"\"Return a random parameter vector\"\"\"\n",
    "    return θ_bounds[0] + (θ_bounds[1]-θ_bounds[0]) * np.random.rand(θ_bounds[0].size)"
   ]
  },
  {
   "cell_type": "markdown",
   "metadata": {},
   "source": [
    "And we'll call fit_local which is just a thin wrapper around the minimize function. But having this function will allow for generality later. Its called fit_local because it finds a local minima (which may also be a global)."
   ]
  },
  {
   "cell_type": "code",
   "execution_count": 13,
   "metadata": {
    "collapsed": true
   },
   "outputs": [],
   "source": [
    "def fit_local(f, ydata, θ_init, θ_bounds):\n",
    "    \"\"\"Return the best estimate from an initial guess\"\"\"\n",
    "    return minimize(goodness_of_fit, θ_init, args=(f, θ_bounds, ydata),\n",
    "                    method=\"Nelder-Mead\", options={\"maxiter\": 1e4}\n",
    "                    )"
   ]
  },
  {
   "cell_type": "markdown",
   "metadata": {},
   "source": [
    "The last function is the specific function that actually fits the Rescorla-Wagner model. Its what runs through all of the initial points (finds many local minima), and returns the minimum."
   ]
  },
  {
   "cell_type": "code",
   "execution_count": 14,
   "metadata": {
    "collapsed": true
   },
   "outputs": [],
   "source": [
    "def fit(ydata, f, θ_bounds, npoints=100):\n",
    "    \"\"\"Return the best estimate over all initial guesses.\"\"\"\n",
    "    θ_init = [random_initial_point(θ_bounds) for _ in range(npoints)]\n",
    "    results = [fit_local(f, ydata, θ, θ_bounds)\n",
    "               for θ in θ_init]\n",
    "    \n",
    "    successful_results = filter(lambda x: x.success, results)\n",
    "    return sorted(successful_results, key=lambda x: x.fun)[0].x"
   ]
  },
  {
   "cell_type": "markdown",
   "metadata": {},
   "source": [
    "Just before we fit, we'll just write the function that shows the fit."
   ]
  },
  {
   "cell_type": "code",
   "execution_count": 15,
   "metadata": {
    "collapsed": false
   },
   "outputs": [],
   "source": [
    "def show_fit(f, θ, xdata, ydata, ax=None, show_smooth=True):\n",
    "    ydata_smooth = ydata.rolling(20).mean()\n",
    "    yfit = f(xdata, *θ)\n",
    "    \n",
    "    if ax is None:\n",
    "        fig, ax = plt.subplots()\n",
    "    if show_smooth:\n",
    "        ax.plot(xdata, ydata_smooth, zorder=2, linewidth=5, color=\"#3333ff\")\n",
    "\n",
    "    ax.plot(xdata, yfit, zorder=3, linewidth=5, color=\"#ff6666\")\n",
    "    ax.scatter(xdata, ydata, s=50, zorder=1, color=\"#33ccff\")\n",
    "    ax.set_xlim((0, xdata.max()))\n",
    "    ax.set_ylim((0, 1.02*ydata.max()))\n",
    "    ax.tick_params(labelsize=20)\n",
    "    ax.set_xlabel(\"x\", fontsize=22)\n",
    "    ax.set_ylabel(\"y\", fontsize=22)\n",
    "    return fig, ax"
   ]
  },
  {
   "cell_type": "markdown",
   "metadata": {},
   "source": [
    "### 2.2.3 Fitting the average rat"
   ]
  },
  {
   "cell_type": "markdown",
   "metadata": {},
   "source": [
    "The easiest way to fit is to average the data over rats and fit that. This reduces the variability in the data."
   ]
  },
  {
   "cell_type": "code",
   "execution_count": 16,
   "metadata": {
    "collapsed": false
   },
   "outputs": [],
   "source": [
    "θhat_mean = fit(df_mean_responserate[\"mean\"], rescorla_wagner, θ_bounds)"
   ]
  },
  {
   "cell_type": "code",
   "execution_count": 17,
   "metadata": {
    "collapsed": false,
    "scrolled": false
   },
   "outputs": [
    {
     "data": {
      "image/png": "[encoded data removed]",
      "text/plain": [
       "<matplotlib.figure.Figure at 0x114e20e48>"
      ]
     },
     "metadata": {},
     "output_type": "display_data"
    }
   ],
   "source": [
    "fig, ax = show_fit(rescorla_wagner, θhat_mean, \n",
    "                   df_mean_responserate[\"trial\"], df_mean_responserate[\"mean\"]);\n",
    "\n",
    "ax.text(30, 35, r\"$\\alpha={:.2}$\" \"\\n\" r\"$V_0={:2.3}$\" \"\\n\" r\"$r={:2.3}$\".format(*θhat_mean), fontsize=18)\n",
    "ax.set_xlabel(\"Trial\")\n",
    "ax.set_ylabel(\"Response rate\")\n",
    "fig.tight_layout()"
   ]
  },
  {
   "cell_type": "markdown",
   "metadata": {},
   "source": [
    "### 2.2.1 Fitting the individual rat"
   ]
  },
  {
   "cell_type": "markdown",
   "metadata": {},
   "source": [
    "Fitting the individual rats, though, gives you an estimates of the parameters per rat. That is, it gives you an individualized learning rate and asymptotic response rate for each rat.\n",
    "\n",
    "Writing the code as tiny modules above gives us generality. Fitting the individuals is now a simple pandas groupby away."
   ]
  },
  {
   "cell_type": "code",
   "execution_count": null,
   "metadata": {
    "collapsed": false
   },
   "outputs": [],
   "source": [
    "θhat_individual = (df_response_rate.groupby(\"subject\")\n",
    "                                   .rpm\n",
    "                                   .apply(fit, rescorla_wagner, θ_bounds)\n",
    "                                   .apply(pd.Series)\n",
    "                                   .rename(columns={0:\"α\", 1:\"V_0\", 2: \"r\"})\n",
    "                                   .reset_index()\n",
    "                   )"
   ]
  },
  {
   "cell_type": "code",
   "execution_count": null,
   "metadata": {
    "collapsed": false,
    "scrolled": true
   },
   "outputs": [],
   "source": [
    "def show_rw_individuals(subject):\n",
    "    idx = df_response_rate.subject == subject\n",
    "    xdata = df_response_rate[idx].trial\n",
    "    ydata = df_response_rate[idx].rpm\n",
    "\n",
    "    θ = θhat_individual.ix[θhat_individual.subject==subject, [\"α\", \"V0\", \"r\"]].as_matrix()\n",
    "    fig, ax = show_fit(rescorla_wagner, *θ, xdata, ydata);\n",
    "\n",
    "    ax.set_xlabel(\"Trial\")\n",
    "    ax.set_ylabel(\"Response rate\")\n",
    "    fig.tight_layout()\n",
    "\n",
    "show_rw_individuals(433)\n",
    "#list(map(show_rw_individuals, θhat_individual.subject.unique()))"
   ]
  },
  {
   "cell_type": "code",
   "execution_count": null,
   "metadata": {
    "collapsed": false,
    "scrolled": false
   },
   "outputs": [],
   "source": [
    "def show_paramter(θ, parameter, ax=None):\n",
    "    if ax is None:\n",
    "        fig, ax = plt.subplots()\n",
    "        \n",
    "    θ_i = θ[parameter].sort_values()        \n",
    "    ax.stem(range(1, 1+θ_i.size), θ_i, linefmt='b-', markerfmt='bo', basefmt='')\n",
    "    \n",
    "    ax.set_xlim((0, 1+θ_i.size))\n",
    "    ax.set_xlabel(\"Rank\", fontsize=22)\n",
    "    #ax.set_ylabel(parameter, fontsize=22)\n",
    "    \n",
    "    xlim = ax.get_xlim()\n",
    "    ylim = ax.get_ylim()\n",
    "    if parameter == \"α\":\n",
    "        parameter = \"\\\\alpha\" # matplotlib unicode issue.\n",
    "    elif parameter == \"βe\":\n",
    "        parameter = \"\\\\beta_e\"\n",
    "    elif parameter == \"βr\":\n",
    "        parameter == \"\\\\beta_r\"\n",
    "    parameter_txt = r\"${}$\".format(parameter)\n",
    "    ax.text(0.05*xlim[1], 0.9*ylim[1],\n",
    "            parameter_txt, fontsize=22)\n",
    "    ax.tick_params(labelsize=20)\n",
    "\n",
    "fig, ax = plt.subplots(nrows=1, ncols=3, figsize=(15,5))\n",
    "show_paramter(θhat_individual, \"α\", ax[0])\n",
    "show_paramter(θhat_individual, \"V_0\", ax[1])\n",
    "show_paramter(θhat_individual, \"r\", ax[2])\n",
    "fig.tight_layout()"
   ]
  },
  {
   "cell_type": "code",
   "execution_count": null,
   "metadata": {
    "collapsed": false,
    "scrolled": false
   },
   "outputs": [],
   "source": [
    "def corrplot(θ):\n",
    "    fig, ax = plt.subplots(figsize=(10,10))\n",
    "        \n",
    "    corr = θ.corr()\n",
    "\n",
    "    mask = np.zeros_like(corr, dtype=np.bool)\n",
    "    mask[np.triu_indices_from(mask)] = True\n",
    "\n",
    "    cmap = sns.diverging_palette(220, 10, as_cmap=True)\n",
    "    ax = sns.heatmap(corr, mask=mask, cmap=cmap, vmax=.3,\n",
    "                     annot=True, annot_kws={\"size\":22}, square=True)\n",
    "    ax.tick_params(labelsize=22)\n",
    "    \n",
    "#corrplot(θhat_individual[[\"α\", \"V_0\", \"r\"]])"
   ]
  },
  {
   "cell_type": "markdown",
   "metadata": {},
   "source": [
    "## 3.0 Fitting Modular Theory to the learning curves"
   ]
  },
  {
   "cell_type": "markdown",
   "metadata": {},
   "source": [
    "Modular theory is a process model whose input is a procedure and whose output are the times of the events. Because of this, it has many parameters that are important along the way (e.g., the parameters that generate individual responses). But many of these parameters are not important for fitting averaged data.\n",
    "\n",
    "The explicit solution to the learning curve is\n",
    "\n",
    "$$R(n) = A \\cdot w(n) + R_0$$\n",
    "\n",
    "where $w(n)$ is the strength memory on trial n. Notice that it looks almost identical to the Rescorla Wagner model at this pint, except for an additive operant rate $R_0$.\n",
    "\n",
    "The value of $w(n)$ depends on the relationship between the learning rate during reinforcement and the learning rate during non-reinforcement. Each of these two are simply continuous-time Rescorla-Wagner equations with learning rates $\\beta_r$ for reinforcement and $\\beta_e$ for non-reinforcement. The explicit solution over trials is\n",
    "\n",
    "$$w(n) = \\beta + (w_0 - \\beta)(1 - \\beta_rd - \\beta_eT)^n$$\n",
    "\n",
    "where $$\\beta = \\frac{\\beta_rd}{\\beta_rd + \\beta_eT}$$\n",
    "\n",
    "that is, $\\beta$ is the proportional increase in strength at the end of the trial how much reinforcement was given ($\\beta_rd$) and how much non-reinforcement ($\\beta_eT$)."
   ]
  },
  {
   "cell_type": "code",
   "execution_count": null,
   "metadata": {
    "collapsed": true
   },
   "outputs": [],
   "source": [
    "def mt_learningcurve(ydata, βr, βe, R0, A):\n",
    "    d, T = 1, interval # set wayy above!\n",
    "    w0 = 0\n",
    "    w = βr*d / (βr*d + βe*T)\n",
    "    \n",
    "    n = np.arange(ydata.size)\n",
    "    W = w + (w0-w)*((1-βr*d - βe*T)**n)\n",
    "    return A*W + R0"
   ]
  },
  {
   "cell_type": "markdown",
   "metadata": {},
   "source": [
    "Now that we went through all the trouble above to make the code general, all we need to do is specify the bounds on the parameters of the model, and then call the fit function"
   ]
  },
  {
   "cell_type": "code",
   "execution_count": null,
   "metadata": {
    "collapsed": false
   },
   "outputs": [],
   "source": [
    "θ_bounds = [(0, 0, 0, 0), (.2, .2, 50, 300)]\n",
    "θ_bounds = list(map(np.array, θ_bounds))\n",
    "\n",
    "θhat_mean = fit(df_mean_responserate[\"mean\"], mt_learningcurve, θ_bounds)"
   ]
  },
  {
   "cell_type": "code",
   "execution_count": null,
   "metadata": {
    "collapsed": false
   },
   "outputs": [],
   "source": [
    "fig, ax = show_fit(mt_learningcurve, θhat_mean, \n",
    "                   df_mean_responserate[\"trial\"], df_mean_responserate[\"mean\"]);\n",
    "\n",
    "\n",
    "ax.text(30, 30, r\"$\\beta_r={:.2}$\" \"\\n\" r\"$\\beta_e={:2.3}$\" \n",
    "                 \"\\n\" r\"$R_0={:2.3}$\" \"\\n\" r\"$A={:2.3}$\".format(*θhat_mean), fontsize=18)\n",
    "ax.set_xlabel(\"Trial\")\n",
    "ax.set_ylabel(\"Response rate\")\n",
    "fig.tight_layout()"
   ]
  },
  {
   "cell_type": "code",
   "execution_count": null,
   "metadata": {
    "collapsed": false
   },
   "outputs": [],
   "source": [
    "θhat_individual = (df_response_rate.groupby(\"subject\")\n",
    "                                   .rpm\n",
    "                                   .apply(fit, mt_learningcurve, θ_bounds)\n",
    "                                   .apply(pd.Series)\n",
    "                                   .rename(columns={0:\"βr\", 1:\"βe\", 2:\"R0\", 3:\"A\"})\n",
    "                                   .reset_index()\n",
    "                   )"
   ]
  },
  {
   "cell_type": "code",
   "execution_count": null,
   "metadata": {
    "collapsed": false,
    "scrolled": false
   },
   "outputs": [],
   "source": [
    "fig, ax = plt.subplots(nrows=2, ncols=2, figsize=(15, 7.5))\n",
    "show_paramter(θhat_individual, \"βr\", ax[0,0])\n",
    "show_paramter(θhat_individual, \"βe\", ax[0,1])\n",
    "show_paramter(θhat_individual, \"R0\", ax[1,0])\n",
    "show_paramter(θhat_individual, \"A\", ax[1,1])\n",
    "fig.tight_layout()"
   ]
  },
  {
   "cell_type": "code",
   "execution_count": null,
   "metadata": {
    "collapsed": false
   },
   "outputs": [],
   "source": [
    "corrplot(θhat_individual[[\"βr\", \"βe\", \"R0\", \"A\"]])"
   ]
  },
  {
   "cell_type": "markdown",
   "metadata": {},
   "source": [
    "## 4.0 Fitting Modular Theory to the response gradient"
   ]
  },
  {
   "cell_type": "markdown",
   "metadata": {},
   "source": [
    "### 4.1 Obtaining the response gradient"
   ]
  },
  {
   "cell_type": "markdown",
   "metadata": {},
   "source": [
    "The response gradient is the moment-by-moment estimate of the response rate in a cycle. Most often, it is estimated in 1 second time bins, although any resolution can be used."
   ]
  },
  {
   "cell_type": "code",
   "execution_count": null,
   "metadata": {
    "collapsed": true
   },
   "outputs": [],
   "source": [
    "def response_gradient(t, n):\n",
    "    \"\"\"Return the response gradient\"\"\"\n",
    "    counts = np.histogram(t, range=(0, int(t.max())), bins=int(t.max()))[0]\n",
    "    return 60*(counts/n)\n",
    "\n",
    "def pd_response_gradient(df):\n",
    "    \"\"\"Groupby wrapper for response_gradient\n",
    "        takes in a data frame, and calls response_gradient\n",
    "        while correctly handling the number of trials\n",
    "    \"\"\"\n",
    "    return response_gradient(df.time, 1+(df.trial.max()-df.iloc[0].trial))"
   ]
  },
  {
   "cell_type": "markdown",
   "metadata": {},
   "source": [
    "We'll compute the response gradient over the pooled response times from the last 10 sessions of the acquisition phase."
   ]
  },
  {
   "cell_type": "code",
   "execution_count": null,
   "metadata": {
    "collapsed": false
   },
   "outputs": [],
   "source": [
    "idx = (data.session >= data.session.max() - 10) & (data.event == 8)\n",
    "df_gradient = (data[idx].groupby(\"subject\")\n",
    "                        .apply(pd_response_gradient)            # get the response gradient for each rat\n",
    "                        .apply(pd.Series)                       # auto generate the bins\n",
    "                        .stack()                                # which are then used as indices\n",
    "                        .pipe(pd.DataFrame)                     # of the dataframe\n",
    "                        .reset_index()\n",
    "                        .rename(columns={\"level_1\": \"bins\", 0:\"rpm\"})\n",
    "               )\n",
    "\n",
    "# Average over rats\n",
    "df_mean_gradient = (df_gradient.groupby(\"bins\")\n",
    "                               .rpm\n",
    "                               .mean()\n",
    "                               .pipe(pd.DataFrame)\n",
    "                               .reset_index()\n",
    "                    )"
   ]
  },
  {
   "cell_type": "markdown",
   "metadata": {},
   "source": [
    "### 4.2 Fitting the response gradient with modular theory"
   ]
  },
  {
   "cell_type": "markdown",
   "metadata": {},
   "source": [
    "Modular theory's explicit solution to the response gradient is given by the operant rate ($r_0$), the ($A$)symptotic rate, and the summary statistics of the start time distribution, $f(b)$, which for simplicity is assumed to be a normal distribution.\n",
    "\n",
    "Given this, the explicit solution to modular theory is\n",
    "\n",
    "$$\\begin{align*} \n",
    "R(t) &= A\\int_{m_n(t)}^{\\infty} f(b)db + R_0 \\\\ \n",
    "     &= A \\cdot \\Phi(t; \\mu, \\sigma) + R_0\n",
    "\\end{align*}$$\n",
    "\n",
    "where $\\Phi(\\cdot)$ is the cumulative normal distribution function"
   ]
  },
  {
   "cell_type": "code",
   "execution_count": null,
   "metadata": {
    "collapsed": true
   },
   "outputs": [],
   "source": [
    "def mt_gradient(ydata, r, A, μ, σ):\n",
    "    x = np.arange(ydata.size)\n",
    "    return r + A*norm.cdf(x, μ, σ)"
   ]
  },
  {
   "cell_type": "markdown",
   "metadata": {},
   "source": [
    "#### 4.2.1 Fitting the average response gradient"
   ]
  },
  {
   "cell_type": "markdown",
   "metadata": {},
   "source": [
    "And now we can just use the same functions as before..."
   ]
  },
  {
   "cell_type": "code",
   "execution_count": null,
   "metadata": {
    "collapsed": false
   },
   "outputs": [],
   "source": [
    "θ_bounds = [(0, 0, 0, 0), (100, 300, 120, 120)]\n",
    "θ_bounds = list(map(np.array, θ_bounds))\n",
    "\n",
    "θhat_mean = fit(df_mean_gradient[\"rpm\"], mt_gradient, θ_bounds)"
   ]
  },
  {
   "cell_type": "code",
   "execution_count": null,
   "metadata": {
    "collapsed": false,
    "scrolled": false
   },
   "outputs": [],
   "source": [
    "fig, ax = show_fit(mt_gradient, θhat_mean, \n",
    "                   df_mean_gradient[\"bins\"], df_mean_gradient[\"rpm\"],\n",
    "                   show_smooth=False);\n",
    "\n",
    "ax.text(10, 40, r\"$R_0={:.2}$\" \"\\n\" r\"$A={:2.3}$\" \n",
    "                 \"\\n\" r\"$\\mu={:2.3}$\" \"\\n\" r\"$\\sigma={:2.3}$\".format(*θhat_mean), fontsize=18)\n",
    "ax.set_xlabel(\"Time (s)\")\n",
    "ax.set_ylabel(\"Response rate\")\n",
    "fig.tight_layout()"
   ]
  },
  {
   "cell_type": "markdown",
   "metadata": {
    "collapsed": true
   },
   "source": [
    "#### 4.2.2 Fitting the individual rats"
   ]
  },
  {
   "cell_type": "code",
   "execution_count": null,
   "metadata": {
    "collapsed": false
   },
   "outputs": [],
   "source": [
    "θhat_individual = (df_gradient.groupby(\"subject\")\n",
    "                              .rpm\n",
    "                              .apply(fit, mt_gradient, θ_bounds)\n",
    "                              .apply(pd.Series)\n",
    "                              .rename(columns={0:\"r\", 1:\"A\", 2:\"μ\", 3:\"σ\"})\n",
    "                              .reset_index()\n",
    "                   )"
   ]
  },
  {
   "cell_type": "code",
   "execution_count": null,
   "metadata": {
    "collapsed": false
   },
   "outputs": [],
   "source": [
    "fig, ax = plt.subplots(nrows=2, ncols=2, figsize=(15, 7.5))\n",
    "show_paramter(θhat_individual, \"r\", ax[0,0])\n",
    "show_paramter(θhat_individual, \"A\", ax[0,1])\n",
    "show_paramter(θhat_individual, \"μ\", ax[1,0])\n",
    "show_paramter(θhat_individual, \"σ\", ax[1,1])\n",
    "fig.tight_layout()"
   ]
  },
  {
   "cell_type": "code",
   "execution_count": null,
   "metadata": {
    "collapsed": false
   },
   "outputs": [],
   "source": [
    "corrplot(θhat_individual[[\"r\", \"A\", \"μ\", \"σ\"]])"
   ]
  },
  {
   "cell_type": "code",
   "execution_count": null,
   "metadata": {
    "collapsed": false,
    "scrolled": false
   },
   "outputs": [],
   "source": [
    "def show_mt_gradient_individuals(subject):\n",
    "    idx = df_gradient.subject == subject\n",
    "    xdata = df_gradient[idx].bins\n",
    "    ydata = df_gradient[idx].rpm\n",
    "\n",
    "    θ = θhat_individual.ix[θhat_individual.subject==subject, [\"r\", \"A\", \"μ\", \"σ\"]].as_matrix()\n",
    "\n",
    "    fig, ax = show_fit(mt_gradient, *θ, xdata, ydata, show_smooth=False);\n",
    "\n",
    "    ax.set_xlabel(\"Trial\")\n",
    "    ax.set_ylabel(\"Response rate\")\n",
    "    fig.tight_layout()\n",
    "\n",
    "#show_mt_gradient_individuals(433)\n",
    "list(map(show_mt_gradient_individuals, θhat_individual.subject.unique()))"
   ]
  },
  {
   "cell_type": "code",
   "execution_count": null,
   "metadata": {
    "collapsed": true
   },
   "outputs": [],
   "source": []
  },
  {
   "cell_type": "code",
   "execution_count": null,
   "metadata": {
    "collapsed": true
   },
   "outputs": [],
   "source": []
  },
  {
   "cell_type": "code",
   "execution_count": null,
   "metadata": {
    "collapsed": true
   },
   "outputs": [],
   "source": []
  },
  {
   "cell_type": "code",
   "execution_count": null,
   "metadata": {
    "collapsed": true
   },
   "outputs": [],
   "source": []
  }
 ],
 "metadata": {
  "kernelspec": {
   "display_name": "Python 3",
   "language": "python",
   "name": "python3"
  },
  "language_info": {
   "codemirror_mode": {
    "name": "ipython",
    "version": 3
   },
   "file_extension": ".py",
   "mimetype": "text/x-python",
   "name": "python",
   "nbconvert_exporter": "python",
   "pygments_lexer": "ipython3",
   "version": "3.5.1"
  }
 },
 "nbformat": 4,
 "nbformat_minor": 0
}
